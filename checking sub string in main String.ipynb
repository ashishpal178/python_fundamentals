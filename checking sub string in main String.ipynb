{
 "cells": [
  {
   "cell_type": "code",
   "execution_count": 1,
   "metadata": {},
   "outputs": [
    {
     "name": "stdout",
     "output_type": "stream",
     "text": [
      "Enter the main string:Ashish kumar pal\n",
      "Enter sub string:mar\n",
      "mar is found in Ashish kumar pal\n"
     ]
    }
   ],
   "source": [
    "#checking sub string in main String\n",
    "main=input('Enter the main string:')\n",
    "sub=input('Enter sub string:')\n",
    "if sub in main:\n",
    "    print(sub,'is found in',main)\n",
    "else:\n",
    "    print(sub,'is not found in',main)"
   ]
  },
  {
   "cell_type": "code",
   "execution_count": null,
   "metadata": {},
   "outputs": [],
   "source": []
  }
 ],
 "metadata": {
  "kernelspec": {
   "display_name": "Python 3",
   "language": "python",
   "name": "python3"
  },
  "language_info": {
   "codemirror_mode": {
    "name": "ipython",
    "version": 3
   },
   "file_extension": ".py",
   "mimetype": "text/x-python",
   "name": "python",
   "nbconvert_exporter": "python",
   "pygments_lexer": "ipython3",
   "version": "3.7.6"
  }
 },
 "nbformat": 4,
 "nbformat_minor": 4
}
