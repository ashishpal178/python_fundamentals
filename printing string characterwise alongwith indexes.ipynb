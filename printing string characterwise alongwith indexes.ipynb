{
 "cells": [
  {
   "cell_type": "code",
   "execution_count": 1,
   "metadata": {},
   "outputs": [
    {
     "name": "stdout",
     "output_type": "stream",
     "text": [
      "Enter a string:yummy\n",
      "The character at +ve index:0 and at -ve index:-5 is:y\n",
      "The character at +ve index:1 and at -ve index:-4 is:u\n",
      "The character at +ve index:2 and at -ve index:-3 is:m\n",
      "The character at +ve index:3 and at -ve index:-2 is:m\n",
      "The character at +ve index:4 and at -ve index:-1 is:y\n"
     ]
    }
   ],
   "source": [
    "#input a string from keyboard & print each character alongith indexes\n",
    "s=input('Enter a string:')\n",
    "i=0\n",
    "for x in s:\n",
    "    print(\"The character at +ve index:{} and at -ve index:{} is:{}\".format(i,i-len(s),x))\n",
    "    i=i+1"
   ]
  },
  {
   "cell_type": "code",
   "execution_count": null,
   "metadata": {},
   "outputs": [],
   "source": []
  }
 ],
 "metadata": {
  "kernelspec": {
   "display_name": "Python 3",
   "language": "python",
   "name": "python3"
  },
  "language_info": {
   "codemirror_mode": {
    "name": "ipython",
    "version": 3
   },
   "file_extension": ".py",
   "mimetype": "text/x-python",
   "name": "python",
   "nbconvert_exporter": "python",
   "pygments_lexer": "ipython3",
   "version": "3.7.6"
  }
 },
 "nbformat": 4,
 "nbformat_minor": 4
}
