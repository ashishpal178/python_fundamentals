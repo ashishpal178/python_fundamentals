{
 "cells": [
  {
   "cell_type": "code",
   "execution_count": 5,
   "metadata": {},
   "outputs": [
    {
     "name": "stdout",
     "output_type": "stream",
     "text": [
      "Enter main string:ashpalashpalashpalashpalashpalashpalashpal\n",
      "Enter sub string:pal\n",
      "Found at index: 3\n",
      "Found at index: 9\n",
      "Found at index: 15\n",
      "Found at index: 21\n",
      "Found at index: 27\n",
      "Found at index: 33\n",
      "Found at index: 39\n",
      "7\n"
     ]
    }
   ],
   "source": [
    "#Finding a substring at all postions\n",
    "MainString=input(\"Enter main string:\")\n",
    "SubString=input(\"Enter sub string:\")\n",
    "flag=False\n",
    "pos=-1\n",
    "n=len(MainString)\n",
    "count=0\n",
    "while True:\n",
    "    pos=MainString.find(SubString,pos+1,n)\n",
    "    if pos==-1:\n",
    "        break\n",
    "    print(\"Found at index:\",pos)\n",
    "    flag=True\n",
    "    count=count+1\n",
    "print(count)\n",
    "if flag==False:\n",
    "    print(\"SubsString is not found\")"
   ]
  },
  {
   "cell_type": "code",
   "execution_count": null,
   "metadata": {},
   "outputs": [],
   "source": []
  }
 ],
 "metadata": {
  "kernelspec": {
   "display_name": "Python 3",
   "language": "python",
   "name": "python3"
  },
  "language_info": {
   "codemirror_mode": {
    "name": "ipython",
    "version": 3
   },
   "file_extension": ".py",
   "mimetype": "text/x-python",
   "name": "python",
   "nbconvert_exporter": "python",
   "pygments_lexer": "ipython3",
   "version": "3.7.6"
  }
 },
 "nbformat": 4,
 "nbformat_minor": 4
}
