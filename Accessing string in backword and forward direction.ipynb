{
 "cells": [
  {
   "cell_type": "code",
   "execution_count": 3,
   "metadata": {},
   "outputs": [
    {
     "name": "stdout",
     "output_type": "stream",
     "text": [
      "Enter some String:ashish\n",
      "Data in Forward Direction\n",
      "ashish\n",
      "Data in Backward Direction\n",
      "hsihsa"
     ]
    }
   ],
   "source": [
    "#Accessing string in backword and forward direction\n",
    "s=input('Enter some String:')\n",
    "n=len(s)\n",
    "m=-n\n",
    "i=0\n",
    "j=-1\n",
    "print('Data in Forward Direction')\n",
    "while i<n:\n",
    "    print(s[i],end='')\n",
    "    i=i+1\n",
    "print('')\n",
    "print('Data in Backward Direction')\n",
    "while j>=m:\n",
    "    print(s[j],end='')\n",
    "    j=j-1"
   ]
  },
  {
   "cell_type": "code",
   "execution_count": null,
   "metadata": {},
   "outputs": [],
   "source": []
  }
 ],
 "metadata": {
  "kernelspec": {
   "display_name": "Python 3",
   "language": "python",
   "name": "python3"
  },
  "language_info": {
   "codemirror_mode": {
    "name": "ipython",
    "version": 3
   },
   "file_extension": ".py",
   "mimetype": "text/x-python",
   "name": "python",
   "nbconvert_exporter": "python",
   "pygments_lexer": "ipython3",
   "version": "3.7.6"
  }
 },
 "nbformat": 4,
 "nbformat_minor": 4
}
