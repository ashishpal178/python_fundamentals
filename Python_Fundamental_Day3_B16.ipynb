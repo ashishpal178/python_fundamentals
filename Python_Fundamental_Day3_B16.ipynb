{
 "cells": [
  {
   "cell_type": "code",
   "execution_count": 2,
   "metadata": {},
   "outputs": [
    {
     "name": "stdout",
     "output_type": "stream",
     "text": [
      "Ashish Pal\n"
     ]
    }
   ],
   "source": [
    "#Introduction to f strings\n",
    "first_name='ashish'\n",
    "last_name='pal'\n",
    "full_name=f\"{first_name} {last_name}\"\n",
    "print(full_name.title())"
   ]
  },
  {
   "cell_type": "code",
   "execution_count": 13,
   "metadata": {},
   "outputs": [
    {
     "name": "stdout",
     "output_type": "stream",
     "text": [
      "Keep up the good work,Ashish Pal!!!\n"
     ]
    }
   ],
   "source": [
    "message=f\"Keep up the good work,{full_name.title()}!!!\"\n",
    "print(message)"
   ]
  },
  {
   "cell_type": "code",
   "execution_count": 15,
   "metadata": {},
   "outputs": [
    {
     "name": "stdout",
     "output_type": "stream",
     "text": [
      "Python Java C C++\n"
     ]
    }
   ],
   "source": [
    "#Adding white spaces to strings\n",
    "print('Python','Java','C','C++')"
   ]
  },
  {
   "cell_type": "code",
   "execution_count": 17,
   "metadata": {},
   "outputs": [
    {
     "name": "stdout",
     "output_type": "stream",
     "text": [
      "Python \n",
      "Java \n",
      "C \n",
      "C++\n"
     ]
    }
   ],
   "source": [
    "print('Python','\\nJava','\\nC','\\nC++')"
   ]
  },
  {
   "cell_type": "code",
   "execution_count": 20,
   "metadata": {},
   "outputs": [
    {
     "name": "stdout",
     "output_type": "stream",
     "text": [
      "Favorite Languages: \n",
      "\t\tPython \n",
      "\t\tJava \n",
      "\t\tC \n",
      "\t\tC++\n"
     ]
    }
   ],
   "source": [
    "print('Favorite Languages:','\\n\\t\\tPython','\\n\\t\\tJava','\\n\\t\\tC','\\n\\t\\tC++')"
   ]
  },
  {
   "cell_type": "code",
   "execution_count": 27,
   "metadata": {},
   "outputs": [
    {
     "name": "stdout",
     "output_type": "stream",
     "text": [
      "203801 is SECRET OTP for txn of 1750.00 on IDBI Bank card XX2020 at FLIPKART on 01-04-20 22:19:53. OTP valid for 5 mins. \n",
      "Please do not share this OTP.\n"
     ]
    }
   ],
   "source": [
    "#OTP Message from bank using f string\n",
    "otp='203801'\n",
    "amount='1750.00'\n",
    "card_last_digit='2020'\n",
    "retailer='FLIPKART'\n",
    "date_time='01-04-20 22:19:53'\n",
    "otp_message=f\"{otp} is SECRET OTP for txn of {amount} on IDBI Bank card XX{card_last_digit} at {retailer} on {date_time}. OTP valid for 5 mins. \\nPlease do not share this OTP.\"\n",
    "print(otp_message)"
   ]
  },
  {
   "cell_type": "code",
   "execution_count": null,
   "metadata": {},
   "outputs": [],
   "source": []
  }
 ],
 "metadata": {
  "kernelspec": {
   "display_name": "Python 3",
   "language": "python",
   "name": "python3"
  },
  "language_info": {
   "codemirror_mode": {
    "name": "ipython",
    "version": 3
   },
   "file_extension": ".py",
   "mimetype": "text/x-python",
   "name": "python",
   "nbconvert_exporter": "python",
   "pygments_lexer": "ipython3",
   "version": "3.7.6"
  }
 },
 "nbformat": 4,
 "nbformat_minor": 4
}
