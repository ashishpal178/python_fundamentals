{
 "cells": [
  {
   "cell_type": "code",
   "execution_count": 2,
   "metadata": {},
   "outputs": [
    {
     "name": "stdout",
     "output_type": "stream",
     "text": [
      "['ashish', 'piyush', 'brijesh', 'somya', 'harshita', 'princy']\n"
     ]
    },
    {
     "data": {
      "text/plain": [
       "list"
      ]
     },
     "execution_count": 2,
     "metadata": {},
     "output_type": "execute_result"
    }
   ],
   "source": [
    "#Intro to lists\n",
    "students=['ashish','piyush','brijesh','somya','harshita','princy']\n",
    "print(students)\n",
    "type(students)"
   ]
  },
  {
   "cell_type": "code",
   "execution_count": 3,
   "metadata": {},
   "outputs": [
    {
     "name": "stdout",
     "output_type": "stream",
     "text": [
      "brijesh\n",
      "['brijesh', 'somya']\n"
     ]
    }
   ],
   "source": [
    "#intro to indexing\n",
    "print(students[2])\n",
    "print(students[2:4])"
   ]
  },
  {
   "cell_type": "code",
   "execution_count": 4,
   "metadata": {},
   "outputs": [
    {
     "name": "stdout",
     "output_type": "stream",
     "text": [
      "['maurya', 'piyush', 'brijesh', 'somya', 'harshita', 'princy']\n"
     ]
    }
   ],
   "source": [
    "#reassigning new element to existing list\n",
    "students[0]='maurya'\n",
    "print(students)"
   ]
  },
  {
   "cell_type": "code",
   "execution_count": 7,
   "metadata": {},
   "outputs": [
    {
     "name": "stdout",
     "output_type": "stream",
     "text": [
      "['maurya', 'piyush', 'brijesh', 'somya', 'harshita', 'princy', 'ashish']\n"
     ]
    }
   ],
   "source": [
    "#adding new element to existing list\n",
    "students.append('ashish')\n",
    "print(students)"
   ]
  },
  {
   "cell_type": "code",
   "execution_count": 8,
   "metadata": {},
   "outputs": [
    {
     "name": "stdout",
     "output_type": "stream",
     "text": [
      "['maurya', 'piyush', 'mehdi', 'brijesh', 'somya', 'harshita', 'princy', 'ashish']\n"
     ]
    }
   ],
   "source": [
    "#inserting new element at specific position\n",
    "students.insert(2,'mehdi')\n",
    "print(students)"
   ]
  },
  {
   "cell_type": "code",
   "execution_count": 9,
   "metadata": {},
   "outputs": [
    {
     "name": "stdout",
     "output_type": "stream",
     "text": [
      "['maurya', 'piyush', 'brijesh', 'somya', 'harshita', 'princy', 'ashish']\n"
     ]
    }
   ],
   "source": [
    "#Deleting elemnts from list\n",
    "del students[2]\n",
    "print(students)"
   ]
  },
  {
   "cell_type": "code",
   "execution_count": 10,
   "metadata": {},
   "outputs": [
    {
     "name": "stdout",
     "output_type": "stream",
     "text": [
      "['maurya', 'piyush', 'brijesh', 'somya', 'harshita', 'princy']\n"
     ]
    }
   ],
   "source": [
    "#deleting elemets from list using pop method\n",
    "students.pop()\n",
    "print(students)"
   ]
  },
  {
   "cell_type": "code",
   "execution_count": 13,
   "metadata": {},
   "outputs": [
    {
     "name": "stdout",
     "output_type": "stream",
     "text": [
      "['brijesh', 'harshita', 'princy']\n"
     ]
    }
   ],
   "source": [
    "#deleting the elements in the list by using pop method\n",
    "students.pop(1)\n",
    "print(students)"
   ]
  },
  {
   "cell_type": "code",
   "execution_count": 16,
   "metadata": {},
   "outputs": [
    {
     "name": "stdout",
     "output_type": "stream",
     "text": [
      "Harshita\n",
      "Keep up the good work,Harshita\n"
     ]
    }
   ],
   "source": [
    "#enhancement of the code\n",
    "print(students[1].title())\n",
    "print(f\"Keep up the good work,{students[1].title()}\")"
   ]
  },
  {
   "cell_type": "code",
   "execution_count": null,
   "metadata": {},
   "outputs": [],
   "source": []
  }
 ],
 "metadata": {
  "kernelspec": {
   "display_name": "Python 3",
   "language": "python",
   "name": "python3"
  },
  "language_info": {
   "codemirror_mode": {
    "name": "ipython",
    "version": 3
   },
   "file_extension": ".py",
   "mimetype": "text/x-python",
   "name": "python",
   "nbconvert_exporter": "python",
   "pygments_lexer": "ipython3",
   "version": "3.7.6"
  }
 },
 "nbformat": 4,
 "nbformat_minor": 4
}
