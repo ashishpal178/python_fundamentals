{
 "cells": [
  {
   "cell_type": "code",
   "execution_count": 1,
   "metadata": {},
   "outputs": [
    {
     "name": "stdout",
     "output_type": "stream",
     "text": [
      "Enter the string:my name is ashish\n",
      "Character at +ve index:0 and at -ve index:-17 is:m\n",
      "Character at +ve index:1 and at -ve index:-16 is:y\n",
      "Character at +ve index:2 and at -ve index:-15 is: \n",
      "Character at +ve index:3 and at -ve index:-14 is:n\n",
      "Character at +ve index:4 and at -ve index:-13 is:a\n",
      "Character at +ve index:5 and at -ve index:-12 is:m\n",
      "Character at +ve index:6 and at -ve index:-11 is:e\n",
      "Character at +ve index:7 and at -ve index:-10 is: \n",
      "Character at +ve index:8 and at -ve index:-9 is:i\n",
      "Character at +ve index:9 and at -ve index:-8 is:s\n",
      "Character at +ve index:10 and at -ve index:-7 is: \n",
      "Character at +ve index:11 and at -ve index:-6 is:a\n",
      "Character at +ve index:12 and at -ve index:-5 is:s\n",
      "Character at +ve index:13 and at -ve index:-4 is:h\n",
      "Character at +ve index:14 and at -ve index:-3 is:i\n",
      "Character at +ve index:15 and at -ve index:-2 is:s\n",
      "Character at +ve index:16 and at -ve index:-1 is:h\n"
     ]
    }
   ],
   "source": [
    "#Printing entered string characterwie with +ve and -Ve index\n",
    "s=input('Enter the string:')\n",
    "i=0\n",
    "for x in s:\n",
    "    print('Character at +ve index:{} and at -ve index:{} is:{}'.format(i,i-len(s),x))\n",
    "    i=i+1"
   ]
  },
  {
   "cell_type": "code",
   "execution_count": null,
   "metadata": {},
   "outputs": [],
   "source": []
  }
 ],
 "metadata": {
  "kernelspec": {
   "display_name": "Python 3",
   "language": "python",
   "name": "python3"
  },
  "language_info": {
   "codemirror_mode": {
    "name": "ipython",
    "version": 3
   },
   "file_extension": ".py",
   "mimetype": "text/x-python",
   "name": "python",
   "nbconvert_exporter": "python",
   "pygments_lexer": "ipython3",
   "version": "3.7.6"
  }
 },
 "nbformat": 4,
 "nbformat_minor": 4
}
