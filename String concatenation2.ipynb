{
 "cells": [
  {
   "cell_type": "code",
   "execution_count": 7,
   "metadata": {},
   "outputs": [
    {
     "name": "stdout",
     "output_type": "stream",
     "text": [
      "Enter 1st string:ram\n",
      "Enter 2nd string:shyam\n",
      "rsahmyam"
     ]
    }
   ],
   "source": [
    "#String concatenation\n",
    "s1=input('Enter 1st string:')\n",
    "s2=input('Enter 2nd string:')\n",
    "s3=''\n",
    "i=0\n",
    "n1=len(s1)-1\n",
    "n2=len(s2)-1\n",
    "while i<=n1 or i<=n2:\n",
    "    if i>n1:\n",
    "        s3=s2[i]\n",
    "        print(s3,end='')\n",
    "    elif i>n2:\n",
    "        s3=s1[i]\n",
    "        print(s3,end='')\n",
    "    else:\n",
    "        s3=s1[i]+s2[i]\n",
    "        print(s3,end='')\n",
    "    i=i+1\n",
    "    continue\n"
   ]
  },
  {
   "cell_type": "code",
   "execution_count": null,
   "metadata": {},
   "outputs": [],
   "source": []
  }
 ],
 "metadata": {
  "kernelspec": {
   "display_name": "Python 3",
   "language": "python",
   "name": "python3"
  },
  "language_info": {
   "codemirror_mode": {
    "name": "ipython",
    "version": 3
   },
   "file_extension": ".py",
   "mimetype": "text/x-python",
   "name": "python",
   "nbconvert_exporter": "python",
   "pygments_lexer": "ipython3",
   "version": "3.7.6"
  }
 },
 "nbformat": 4,
 "nbformat_minor": 4
}
