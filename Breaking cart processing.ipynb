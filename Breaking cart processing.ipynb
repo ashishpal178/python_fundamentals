{
 "cells": [
  {
   "cell_type": "code",
   "execution_count": 1,
   "metadata": {},
   "outputs": [
    {
     "name": "stdout",
     "output_type": "stream",
     "text": [
      "Enter the item price:[10,20,79,550,90,180,60]\n",
      "Processing item: 10\n",
      "Processing item: 20\n",
      "Processing item: 79\n",
      "Item can't be processes....insurance required\n"
     ]
    }
   ],
   "source": [
    "#Processing items in cart, if item is above ₹500 stop processsing using break\n",
    "cart=eval(input('Enter the item price:'))\n",
    "for item in cart:\n",
    "    if item>500:\n",
    "        print(\"Item can't be processes....insurance required\")\n",
    "        break\n",
    "    print(\"Processing item:\",item)"
   ]
  },
  {
   "cell_type": "code",
   "execution_count": null,
   "metadata": {},
   "outputs": [],
   "source": []
  }
 ],
 "metadata": {
  "kernelspec": {
   "display_name": "Python 3",
   "language": "python",
   "name": "python3"
  },
  "language_info": {
   "codemirror_mode": {
    "name": "ipython",
    "version": 3
   },
   "file_extension": ".py",
   "mimetype": "text/x-python",
   "name": "python",
   "nbconvert_exporter": "python",
   "pygments_lexer": "ipython3",
   "version": "3.7.6"
  }
 },
 "nbformat": 4,
 "nbformat_minor": 4
}
