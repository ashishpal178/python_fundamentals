{
 "cells": [
  {
   "cell_type": "code",
   "execution_count": 3,
   "metadata": {},
   "outputs": [
    {
     "name": "stdout",
     "output_type": "stream",
     "text": [
      "Enter the string:aaaaaabbbbbbbbcccccccc\n",
      "a occurs 6 times\n",
      "b occurs 8 times\n",
      "c occurs 8 times\n"
     ]
    }
   ],
   "source": [
    "#finding number of occerences of each character in a string\n",
    "s=input('Enter the string:')\n",
    "d={}\n",
    "for x in s:\n",
    "    if x not in d.keys():\n",
    "        d[x]=1\n",
    "    else:\n",
    "        d[x]=d[x]+1\n",
    "for k,v in d.items():\n",
    "    print(\"{} occurs {} times\".format(k,v))"
   ]
  },
  {
   "cell_type": "code",
   "execution_count": null,
   "metadata": {},
   "outputs": [],
   "source": []
  }
 ],
 "metadata": {
  "kernelspec": {
   "display_name": "Python 3",
   "language": "python",
   "name": "python3"
  },
  "language_info": {
   "codemirror_mode": {
    "name": "ipython",
    "version": 3
   },
   "file_extension": ".py",
   "mimetype": "text/x-python",
   "name": "python",
   "nbconvert_exporter": "python",
   "pygments_lexer": "ipython3",
   "version": "3.7.6"
  }
 },
 "nbformat": 4,
 "nbformat_minor": 4
}
