{
 "cells": [
  {
   "cell_type": "code",
   "execution_count": 1,
   "metadata": {},
   "outputs": [
    {
     "name": "stdout",
     "output_type": "stream",
     "text": [
      "Enter some string:ashish pal\n",
      "character at even index 0 is: a\n",
      "character at odd index 1 is: s\n",
      "character at even index 2 is: h\n",
      "character at odd index 3 is: i\n",
      "character at even index 4 is: s\n",
      "character at odd index 5 is: h\n",
      "character at even index 6 is:  \n",
      "character at odd index 7 is: p\n",
      "character at even index 8 is: a\n",
      "character at odd index 9 is: l\n"
     ]
    }
   ],
   "source": [
    "#printing charcters at odd and even indexes\n",
    "s=input(\"Enter some string:\")\n",
    "i=0\n",
    "n=len(s)-1\n",
    "while i<=n:\n",
    "    if i%2==0:\n",
    "        print('character at even index',i,'is:',s[i])\n",
    "    else:\n",
    "        print('character at odd index',i,'is:',s[i])\n",
    "    i=i+1"
   ]
  },
  {
   "cell_type": "code",
   "execution_count": null,
   "metadata": {},
   "outputs": [],
   "source": []
  }
 ],
 "metadata": {
  "kernelspec": {
   "display_name": "Python 3",
   "language": "python",
   "name": "python3"
  },
  "language_info": {
   "codemirror_mode": {
    "name": "ipython",
    "version": 3
   },
   "file_extension": ".py",
   "mimetype": "text/x-python",
   "name": "python",
   "nbconvert_exporter": "python",
   "pygments_lexer": "ipython3",
   "version": "3.7.6"
  }
 },
 "nbformat": 4,
 "nbformat_minor": 4
}
