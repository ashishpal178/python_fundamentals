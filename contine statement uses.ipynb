{
 "cells": [
  {
   "cell_type": "code",
   "execution_count": 1,
   "metadata": {},
   "outputs": [
    {
     "name": "stdout",
     "output_type": "stream",
     "text": [
      "1\n",
      "3\n",
      "5\n",
      "7\n",
      "9\n"
     ]
    }
   ],
   "source": [
    "#contine statment use case\n",
    "for i in range(10):\n",
    "    if i%2==0:\n",
    "        continue\n",
    "    print(i)"
   ]
  },
  {
   "cell_type": "code",
   "execution_count": 4,
   "metadata": {},
   "outputs": [
    {
     "name": "stdout",
     "output_type": "stream",
     "text": [
      "Enter the item cost:[10,20,600,221,79,529,20,110]\n",
      "Processed item: 10\n",
      "Processed item: 20\n",
      "Skipping the item processing...special permission required 600\n",
      "Processed item: 221\n",
      "Processed item: 79\n",
      "Skipping the item processing...special permission required 529\n",
      "Processed item: 20\n",
      "Processed item: 110\n"
     ]
    }
   ],
   "source": [
    "#Skiping item for processing if it is more than ₹ 500 using contine statement\n",
    "cart=eval(input('Enter the item cost:'))\n",
    "for item in cart:\n",
    "    if item>500:\n",
    "        print('Skipping the item processing...special permission required',item)\n",
    "        continue\n",
    "    print('Processed item:',item)"
   ]
  },
  {
   "cell_type": "code",
   "execution_count": 7,
   "metadata": {},
   "outputs": [
    {
     "name": "stdout",
     "output_type": "stream",
     "text": [
      "100/10=10.0\n",
      "100/20=5.0\n",
      "Zero division error 0\n",
      "100/5=20.0\n",
      "Zero division error 0\n",
      "100/30=3.3333333333333335\n"
     ]
    }
   ],
   "source": [
    "#dividing 100 by each number in list, skipping zero division error using continue\n",
    "numbers=[10,20,0,5,0,30]\n",
    "for n in numbers:\n",
    "    if n==0:\n",
    "        print('Zero division error',n)\n",
    "        continue\n",
    "    print('100/{}={}'.format(n,100/n))"
   ]
  },
  {
   "cell_type": "code",
   "execution_count": null,
   "metadata": {},
   "outputs": [],
   "source": []
  }
 ],
 "metadata": {
  "kernelspec": {
   "display_name": "Python 3",
   "language": "python",
   "name": "python3"
  },
  "language_info": {
   "codemirror_mode": {
    "name": "ipython",
    "version": 3
   },
   "file_extension": ".py",
   "mimetype": "text/x-python",
   "name": "python",
   "nbconvert_exporter": "python",
   "pygments_lexer": "ipython3",
   "version": "3.7.6"
  }
 },
 "nbformat": 4,
 "nbformat_minor": 4
}
