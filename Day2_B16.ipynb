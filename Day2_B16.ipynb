{
 "cells": [
  {
   "cell_type": "code",
   "execution_count": 20,
   "metadata": {},
   "outputs": [
    {
     "name": "stdout",
     "output_type": "stream",
     "text": [
      "ashish\n"
     ]
    }
   ],
   "source": [
    "#Rules to declare variable\n",
    "#1.no name spaces while declaring variables. Instead underscore can be used\n",
    "#e.g\n",
    "\n",
    "first_name='ashish'\n",
    "print(first_name)"
   ]
  },
  {
   "cell_type": "code",
   "execution_count": 21,
   "metadata": {},
   "outputs": [
    {
     "name": "stdout",
     "output_type": "stream",
     "text": [
      "ashish\n"
     ]
    }
   ],
   "source": [
    "#2.should not start with numbers. can end with number\n",
    "name1='ashish'\n",
    "print(name1)"
   ]
  },
  {
   "cell_type": "code",
   "execution_count": 22,
   "metadata": {},
   "outputs": [
    {
     "ename": "SyntaxError",
     "evalue": "can't assign to operator (<ipython-input-22-df841240c76e>, line 2)",
     "output_type": "error",
     "traceback": [
      "\u001b[1;36m  File \u001b[1;32m\"<ipython-input-22-df841240c76e>\"\u001b[1;36m, line \u001b[1;32m2\u001b[0m\n\u001b[1;33m    first@name='ashish'\u001b[0m\n\u001b[1;37m                       ^\u001b[0m\n\u001b[1;31mSyntaxError\u001b[0m\u001b[1;31m:\u001b[0m can't assign to operator\n"
     ]
    }
   ],
   "source": [
    "#3.should not contain special characters. underscore is allowed\n",
    "first@name='ashish'\n",
    "print(first@name)"
   ]
  },
  {
   "cell_type": "code",
   "execution_count": 23,
   "metadata": {},
   "outputs": [
    {
     "name": "stdout",
     "output_type": "stream",
     "text": [
      "ashish\n",
      "piyush\n",
      "Gaurav\n"
     ]
    }
   ],
   "source": [
    "#defining string\n",
    "name1='ashish'\n",
    "name2=\"piyush\"\n",
    "name3='''Gaurav'''\n",
    "print(name1)\n",
    "print(name2)\n",
    "print(name3)"
   ]
  },
  {
   "cell_type": "code",
   "execution_count": 24,
   "metadata": {},
   "outputs": [
    {
     "name": "stdout",
     "output_type": "stream",
     "text": [
      "<class 'str'> piyush Gaurav\n"
     ]
    }
   ],
   "source": [
    "#verifying & validating data types\n",
    "print(type(name1),(name2),(name3))"
   ]
  },
  {
   "cell_type": "code",
   "execution_count": 19,
   "metadata": {},
   "outputs": [
    {
     "name": "stdout",
     "output_type": "stream",
     "text": [
      "Ashish Kumar Pal\n",
      "ASHISH KUMAR PAL\n",
      "ashish kumar pal\n"
     ]
    }
   ],
   "source": [
    "#enhancement of the code\n",
    "name='ashish kumar pal'\n",
    "print(name.title())\n",
    "print(name.upper())\n",
    "full_name='ASHISH KUMAR PAL'\n",
    "print(full_name.lower())"
   ]
  },
  {
   "cell_type": "code",
   "execution_count": null,
   "metadata": {},
   "outputs": [],
   "source": []
  }
 ],
 "metadata": {
  "kernelspec": {
   "display_name": "Python 3",
   "language": "python",
   "name": "python3"
  },
  "language_info": {
   "codemirror_mode": {
    "name": "ipython",
    "version": 3
   },
   "file_extension": ".py",
   "mimetype": "text/x-python",
   "name": "python",
   "nbconvert_exporter": "python",
   "pygments_lexer": "ipython3",
   "version": "3.7.6"
  }
 },
 "nbformat": 4,
 "nbformat_minor": 4
}
