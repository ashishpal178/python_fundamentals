{
 "cells": [
  {
   "cell_type": "code",
   "execution_count": 1,
   "metadata": {},
   "outputs": [
    {
     "name": "stdout",
     "output_type": "stream",
     "text": [
      "False\n",
      "True\n",
      "False\n",
      "True\n"
     ]
    }
   ],
   "source": [
    "#for int type\n",
    "a=10\n",
    "b=20\n",
    "print(a>b) #false\n",
    "print(a<b) #True\n",
    "print(a>=b) #false\n",
    "print(a<=b) #true"
   ]
  },
  {
   "cell_type": "code",
   "execution_count": 2,
   "metadata": {},
   "outputs": [
    {
     "name": "stdout",
     "output_type": "stream",
     "text": [
      "False\n",
      "True\n",
      "False\n",
      "True\n"
     ]
    }
   ],
   "source": [
    "#for str type\n",
    "#applied in alphabetical order\n",
    "#small letter is bigger than capital letter\n",
    "#if 1st letter of both argument is same, then 2nd letter will be compared and so on.\n",
    "a='ashish'\n",
    "b='pal'\n",
    "print(a>b) #false\n",
    "print(a<b) #True\n",
    "print(a>=b) #false\n",
    "print(a<=b) #true"
   ]
  },
  {
   "cell_type": "code",
   "execution_count": 3,
   "metadata": {},
   "outputs": [
    {
     "name": "stdout",
     "output_type": "stream",
     "text": [
      "True\n",
      "False\n",
      "True\n",
      "False\n"
     ]
    }
   ],
   "source": [
    "x=True      #True is always 1\n",
    "y=False     #False is always 0\n",
    "print(x>y)  #True\n",
    "print(x<y)  #False\n",
    "print(x>=y) #True\n",
    "print(x<=y) #False"
   ]
  },
  {
   "cell_type": "code",
   "execution_count": 4,
   "metadata": {},
   "outputs": [
    {
     "name": "stdout",
     "output_type": "stream",
     "text": [
      "True\n",
      "True\n",
      "False\n"
     ]
    }
   ],
   "source": [
    "#chaining of relational operator\n",
    "print(10<20<30<40)\n",
    "print(10<20<35>3)\n",
    "print(30>45<30)"
   ]
  },
  {
   "cell_type": "code",
   "execution_count": null,
   "metadata": {},
   "outputs": [],
   "source": []
  }
 ],
 "metadata": {
  "kernelspec": {
   "display_name": "Python 3",
   "language": "python",
   "name": "python3"
  },
  "language_info": {
   "codemirror_mode": {
    "name": "ipython",
    "version": 3
   },
   "file_extension": ".py",
   "mimetype": "text/x-python",
   "name": "python",
   "nbconvert_exporter": "python",
   "pygments_lexer": "ipython3",
   "version": "3.7.6"
  }
 },
 "nbformat": 4,
 "nbformat_minor": 4
}
