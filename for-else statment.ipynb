{
 "cells": [
  {
   "cell_type": "code",
   "execution_count": 1,
   "metadata": {},
   "outputs": [
    {
     "name": "stdout",
     "output_type": "stream",
     "text": [
      "Enter the item's cost:[10,20,30,671,70,90]\n",
      "processing item: 10\n",
      "processing item: 20\n",
      "processing item: 30\n",
      "item can't be processed 671\n",
      "processing item: 70\n",
      "processing item: 90\n",
      "congratulations...all items processed\n"
     ]
    }
   ],
   "source": [
    "#use of for else statment\n",
    "cart=eval(input(\"Enter the item's cost:\"))\n",
    "for item in cart:\n",
    "    if item>500:\n",
    "        print(\"item can't be processed\",item)\n",
    "        continue\n",
    "    print('processing item:',item)\n",
    "else:\n",
    "    print('congratulations...all items processed')"
   ]
  },
  {
   "cell_type": "code",
   "execution_count": null,
   "metadata": {},
   "outputs": [],
   "source": []
  }
 ],
 "metadata": {
  "kernelspec": {
   "display_name": "Python 3",
   "language": "python",
   "name": "python3"
  },
  "language_info": {
   "codemirror_mode": {
    "name": "ipython",
    "version": 3
   },
   "file_extension": ".py",
   "mimetype": "text/x-python",
   "name": "python",
   "nbconvert_exporter": "python",
   "pygments_lexer": "ipython3",
   "version": "3.7.6"
  }
 },
 "nbformat": 4,
 "nbformat_minor": 4
}
