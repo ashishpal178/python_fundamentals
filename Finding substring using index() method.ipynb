{
 "cells": [
  {
   "cell_type": "code",
   "execution_count": 11,
   "metadata": {},
   "outputs": [
    {
     "name": "stdout",
     "output_type": "stream",
     "text": [
      "Enter main string:ashish kumar pal\n",
      "Enter sub string:kum\n",
      "Sub string is found\n"
     ]
    }
   ],
   "source": [
    "#Finding substring using index() method\n",
    "s=input(\"Enter main string:\")\n",
    "sub=input(\"Enter sub string:\")\n",
    "try:\n",
    "    n=s.index(sub)\n",
    "except ValueError:\n",
    "    print(\"substring is not found in main string\")\n",
    "else:\n",
    "    print(\"Sub string is found\")\n"
   ]
  },
  {
   "cell_type": "code",
   "execution_count": 12,
   "metadata": {},
   "outputs": [
    {
     "name": "stdout",
     "output_type": "stream",
     "text": [
      "Enter main string:ashish kumar pal\n",
      "Enter sub string:suma\n",
      "substring is not found in main string\n"
     ]
    }
   ],
   "source": [
    "s=input(\"Enter main string:\")\n",
    "sub=input(\"Enter sub string:\")\n",
    "try:\n",
    "    n=s.index(sub)\n",
    "except ValueError:\n",
    "    print(\"substring is not found in main string\")\n",
    "else:\n",
    "    print(\"Sub string is found\")"
   ]
  },
  {
   "cell_type": "code",
   "execution_count": null,
   "metadata": {},
   "outputs": [],
   "source": []
  }
 ],
 "metadata": {
  "kernelspec": {
   "display_name": "Python 3",
   "language": "python",
   "name": "python3"
  },
  "language_info": {
   "codemirror_mode": {
    "name": "ipython",
    "version": 3
   },
   "file_extension": ".py",
   "mimetype": "text/x-python",
   "name": "python",
   "nbconvert_exporter": "python",
   "pygments_lexer": "ipython3",
   "version": "3.7.6"
  }
 },
 "nbformat": 4,
 "nbformat_minor": 4
}
